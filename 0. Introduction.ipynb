{
 "cells": [
  {
   "cell_type": "markdown",
   "metadata": {},
   "source": [
    "# About Me:\n",
    "## DSR Alum (Batch 20), Data Science Consultant: [Oxera](https://www.oxera.com) \n",
    "\n",
    "### MSc Financial Economics, BA Economics\n",
    "#### Contact: \n",
    "paul.michael.mora.sancho@gmail.com. [LinkedIn](https://www.linkedin.com/in/paul-mora-53a727168/)"
   ]
  },
  {
   "cell_type": "markdown",
   "metadata": {},
   "source": [
    "# About You:\n",
    "- Name\n",
    "- Background (work & academic)\n",
    "- Potential project ideas\n",
    "- Plans after DSR"
   ]
  }
 ],
 "metadata": {
  "kernelspec": {
   "display_name": "Python 3",
   "language": "python",
   "name": "python3"
  },
  "language_info": {
   "codemirror_mode": {
    "name": "ipython",
    "version": 3
   },
   "file_extension": ".py",
   "mimetype": "text/x-python",
   "name": "python",
   "nbconvert_exporter": "python",
   "pygments_lexer": "ipython3",
   "version": "3.7.4"
  }
 },
 "nbformat": 4,
 "nbformat_minor": 2
}
